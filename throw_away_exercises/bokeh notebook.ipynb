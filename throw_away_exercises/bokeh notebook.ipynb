{
 "cells": [
  {
   "cell_type": "code",
   "execution_count": 2,
   "metadata": {
    "collapsed": true
   },
   "outputs": [],
   "source": [
    "from bokeh.plotting import figure, output_notebook, show"
   ]
  },
  {
   "cell_type": "code",
   "execution_count": 3,
   "metadata": {
    "collapsed": false
   },
   "outputs": [
    {
     "data": {
      "text/html": [
       "\n",
       "    <div class=\"bk-root\">\n",
       "        <a href=\"http://bokeh.pydata.org\" target=\"_blank\" class=\"bk-logo bk-logo-small bk-logo-notebook\"></a>\n",
       "        <span id=\"f3c467d4-5b97-48c6-9ccc-336973c66c64\">Loading BokehJS ...</span>\n",
       "    </div>"
      ]
     },
     "metadata": {},
     "output_type": "display_data"
    },
    {
     "data": {
      "application/javascript": [
       "\n",
       "(function(global) {\n",
       "  function now() {\n",
       "    return new Date();\n",
       "  }\n",
       "\n",
       "  if (typeof (window._bokeh_onload_callbacks) === \"undefined\") {\n",
       "    window._bokeh_onload_callbacks = [];\n",
       "  }\n",
       "\n",
       "  function run_callbacks() {\n",
       "    window._bokeh_onload_callbacks.forEach(function(callback) { callback() });\n",
       "    delete window._bokeh_onload_callbacks\n",
       "    console.info(\"Bokeh: all callbacks have finished\");\n",
       "  }\n",
       "\n",
       "  function load_libs(js_urls, callback) {\n",
       "    window._bokeh_onload_callbacks.push(callback);\n",
       "    if (window._bokeh_is_loading > 0) {\n",
       "      console.log(\"Bokeh: BokehJS is being loaded, scheduling callback at\", now());\n",
       "      return null;\n",
       "    }\n",
       "    if (js_urls == null || js_urls.length === 0) {\n",
       "      run_callbacks();\n",
       "      return null;\n",
       "    }\n",
       "    console.log(\"Bokeh: BokehJS not loaded, scheduling load and callback at\", now());\n",
       "    window._bokeh_is_loading = js_urls.length;\n",
       "    for (var i = 0; i < js_urls.length; i++) {\n",
       "      var url = js_urls[i];\n",
       "      var s = document.createElement('script');\n",
       "      s.src = url;\n",
       "      s.async = false;\n",
       "      s.onreadystatechange = s.onload = function() {\n",
       "        window._bokeh_is_loading--;\n",
       "        if (window._bokeh_is_loading === 0) {\n",
       "          console.log(\"Bokeh: all BokehJS libraries loaded\");\n",
       "          run_callbacks()\n",
       "        }\n",
       "      };\n",
       "      s.onerror = function() {\n",
       "        console.warn(\"failed to load library \" + url);\n",
       "      };\n",
       "      console.log(\"Bokeh: injecting script tag for BokehJS library: \", url);\n",
       "      document.getElementsByTagName(\"head\")[0].appendChild(s);\n",
       "    }\n",
       "  };\n",
       "\n",
       "  var js_urls = ['https://cdn.pydata.org/bokeh/release/bokeh-0.12.0.min.js', 'https://cdn.pydata.org/bokeh/release/bokeh-widgets-0.12.0.min.js', 'https://cdn.pydata.org/bokeh/release/bokeh-compiler-0.12.0.min.js'];\n",
       "\n",
       "  var inline_js = [\n",
       "    function(Bokeh) {\n",
       "      Bokeh.set_log_level(\"info\");\n",
       "    },\n",
       "    \n",
       "    function(Bokeh) {\n",
       "      Bokeh.$(\"#f3c467d4-5b97-48c6-9ccc-336973c66c64\").text(\"BokehJS successfully loaded\");\n",
       "    },\n",
       "    function(Bokeh) {\n",
       "      console.log(\"Bokeh: injecting CSS: https://cdn.pydata.org/bokeh/release/bokeh-0.12.0.min.css\");\n",
       "      Bokeh.embed.inject_css(\"https://cdn.pydata.org/bokeh/release/bokeh-0.12.0.min.css\");\n",
       "      console.log(\"Bokeh: injecting CSS: https://cdn.pydata.org/bokeh/release/bokeh-widgets-0.12.0.min.css\");\n",
       "      Bokeh.embed.inject_css(\"https://cdn.pydata.org/bokeh/release/bokeh-widgets-0.12.0.min.css\");\n",
       "    }\n",
       "  ];\n",
       "\n",
       "  function run_inline_js() {\n",
       "    for (var i = 0; i < inline_js.length; i++) {\n",
       "      inline_js[i](window.Bokeh);\n",
       "    }\n",
       "  }\n",
       "\n",
       "  if (window._bokeh_is_loading === 0) {\n",
       "    console.log(\"Bokeh: BokehJS loaded, going straight to plotting\");\n",
       "    run_inline_js();\n",
       "  } else {\n",
       "    load_libs(js_urls, function() {\n",
       "      console.log(\"Bokeh: BokehJS plotting callback run at\", now());\n",
       "      run_inline_js();\n",
       "    });\n",
       "  }\n",
       "}(this));"
      ]
     },
     "metadata": {},
     "output_type": "display_data"
    }
   ],
   "source": [
    "output_notebook()"
   ]
  },
  {
   "cell_type": "code",
   "execution_count": 13,
   "metadata": {
    "collapsed": false
   },
   "outputs": [
    {
     "data": {
      "text/html": [
       "\n",
       "\n",
       "    <div class=\"bk-root\">\n",
       "        <div class=\"plotdiv\" id=\"26d61f1a-4839-434b-81c7-bf252edb6805\"></div>\n",
       "    </div>\n",
       "<script type=\"text/javascript\">\n",
       "  \n",
       "  (function(global) {\n",
       "    function now() {\n",
       "      return new Date();\n",
       "    }\n",
       "  \n",
       "    if (typeof (window._bokeh_onload_callbacks) === \"undefined\") {\n",
       "      window._bokeh_onload_callbacks = [];\n",
       "    }\n",
       "  \n",
       "    function run_callbacks() {\n",
       "      window._bokeh_onload_callbacks.forEach(function(callback) { callback() });\n",
       "      delete window._bokeh_onload_callbacks\n",
       "      console.info(\"Bokeh: all callbacks have finished\");\n",
       "    }\n",
       "  \n",
       "    function load_libs(js_urls, callback) {\n",
       "      window._bokeh_onload_callbacks.push(callback);\n",
       "      if (window._bokeh_is_loading > 0) {\n",
       "        console.log(\"Bokeh: BokehJS is being loaded, scheduling callback at\", now());\n",
       "        return null;\n",
       "      }\n",
       "      if (js_urls == null || js_urls.length === 0) {\n",
       "        run_callbacks();\n",
       "        return null;\n",
       "      }\n",
       "      console.log(\"Bokeh: BokehJS not loaded, scheduling load and callback at\", now());\n",
       "      window._bokeh_is_loading = js_urls.length;\n",
       "      for (var i = 0; i < js_urls.length; i++) {\n",
       "        var url = js_urls[i];\n",
       "        var s = document.createElement('script');\n",
       "        s.src = url;\n",
       "        s.async = false;\n",
       "        s.onreadystatechange = s.onload = function() {\n",
       "          window._bokeh_is_loading--;\n",
       "          if (window._bokeh_is_loading === 0) {\n",
       "            console.log(\"Bokeh: all BokehJS libraries loaded\");\n",
       "            run_callbacks()\n",
       "          }\n",
       "        };\n",
       "        s.onerror = function() {\n",
       "          console.warn(\"failed to load library \" + url);\n",
       "        };\n",
       "        console.log(\"Bokeh: injecting script tag for BokehJS library: \", url);\n",
       "        document.getElementsByTagName(\"head\")[0].appendChild(s);\n",
       "      }\n",
       "    };var element = document.getElementById(\"26d61f1a-4839-434b-81c7-bf252edb6805\");\n",
       "    if (element == null) {\n",
       "      console.log(\"Bokeh: ERROR: autoload.js configured with elementid '26d61f1a-4839-434b-81c7-bf252edb6805' but no matching script tag was found. \")\n",
       "      return false;\n",
       "    }\n",
       "  \n",
       "    var js_urls = [];\n",
       "  \n",
       "    var inline_js = [\n",
       "      function(Bokeh) {\n",
       "        Bokeh.$(function() {\n",
       "            var docs_json = {\"910acfd2-d4a4-47ce-b48d-642309785b22\":{\"roots\":{\"references\":[{\"attributes\":{},\"id\":\"7183f981-b252-440c-bf7e-8813bdec5c53\",\"type\":\"ToolEvents\"},{\"attributes\":{},\"id\":\"04f45999-b079-4d42-afd2-c9fc94f17d97\",\"type\":\"BasicTicker\"},{\"attributes\":{\"formatter\":{\"id\":\"e8f5624d-3dfc-427b-b766-09cbdb5e352e\",\"type\":\"BasicTickFormatter\"},\"plot\":{\"id\":\"7dd781d7-87d7-46c8-8b10-67cc2c23d782\",\"subtype\":\"Figure\",\"type\":\"Plot\"},\"ticker\":{\"id\":\"04f45999-b079-4d42-afd2-c9fc94f17d97\",\"type\":\"BasicTicker\"}},\"id\":\"16b2c25a-99cc-410e-89c2-c52593577ab4\",\"type\":\"LinearAxis\"},{\"attributes\":{\"data_source\":{\"id\":\"add033b0-d575-44a2-820f-1e75e8b5209f\",\"type\":\"ColumnDataSource\"},\"glyph\":{\"id\":\"ebfe9c16-9347-400c-80fa-a81d5f46b2a3\",\"type\":\"Line\"},\"hover_glyph\":null,\"nonselection_glyph\":{\"id\":\"d2744f78-620e-4f57-a8ce-4dda37aaf00d\",\"type\":\"Line\"},\"selection_glyph\":null},\"id\":\"cd0635ad-b199-4d7f-bb36-22192598b7ae\",\"type\":\"GlyphRenderer\"},{\"attributes\":{\"line_color\":{\"value\":\"#1f77b4\"},\"x\":{\"field\":\"x\"},\"y\":{\"field\":\"y\"}},\"id\":\"ebfe9c16-9347-400c-80fa-a81d5f46b2a3\",\"type\":\"Line\"},{\"attributes\":{\"line_alpha\":{\"value\":0.1},\"line_color\":{\"value\":\"#1f77b4\"},\"x\":{\"field\":\"x\"},\"y\":{\"field\":\"y\"}},\"id\":\"d2744f78-620e-4f57-a8ce-4dda37aaf00d\",\"type\":\"Line\"},{\"attributes\":{\"active_drag\":\"auto\",\"active_scroll\":\"auto\",\"active_tap\":\"auto\",\"tools\":[{\"id\":\"7ef83004-cecd-4e74-897c-47ad2fc7c733\",\"type\":\"PanTool\"},{\"id\":\"cf747223-b6fb-432b-a80a-8b30467d43b5\",\"type\":\"WheelZoomTool\"},{\"id\":\"d0632eb4-6ee5-4599-b127-9b4a0c191f15\",\"type\":\"BoxZoomTool\"},{\"id\":\"92c5bf13-dc23-4d48-9003-7bda3aad3eef\",\"type\":\"SaveTool\"},{\"id\":\"17643671-29fc-4a48-8f4b-d9c13544bb57\",\"type\":\"ResetTool\"},{\"id\":\"8ea3e761-7c4a-4a68-9335-b6847c431b4c\",\"type\":\"HelpTool\"}]},\"id\":\"b51ba922-9e15-47bc-aeff-c071b53647ae\",\"type\":\"Toolbar\"},{\"attributes\":{},\"id\":\"66cf8f6b-14d1-4247-b031-59fef1211139\",\"type\":\"BasicTicker\"},{\"attributes\":{\"callback\":null,\"column_names\":[\"y\",\"x\"],\"data\":{\"x\":[0,1,2,3,4,5,6,7,8,9],\"y\":[-0.15097141473872933,0.15597031264475777,0.8937009852763496,0.41133861600104465,-1.1876706848141156,-0.9346478862345604,-0.32481018871676653,-0.20287603585809003,0.46101084070838994,-1.1695265953106624]}},\"id\":\"add033b0-d575-44a2-820f-1e75e8b5209f\",\"type\":\"ColumnDataSource\"},{\"attributes\":{\"plot\":{\"id\":\"7dd781d7-87d7-46c8-8b10-67cc2c23d782\",\"subtype\":\"Figure\",\"type\":\"Plot\"}},\"id\":\"8ea3e761-7c4a-4a68-9335-b6847c431b4c\",\"type\":\"HelpTool\"},{\"attributes\":{\"callback\":null},\"id\":\"28bfbf7d-712e-480e-9998-4108dbf2b25e\",\"type\":\"DataRange1d\"},{\"attributes\":{\"plot\":{\"id\":\"7dd781d7-87d7-46c8-8b10-67cc2c23d782\",\"subtype\":\"Figure\",\"type\":\"Plot\"}},\"id\":\"17643671-29fc-4a48-8f4b-d9c13544bb57\",\"type\":\"ResetTool\"},{\"attributes\":{\"plot\":{\"id\":\"7dd781d7-87d7-46c8-8b10-67cc2c23d782\",\"subtype\":\"Figure\",\"type\":\"Plot\"},\"ticker\":{\"id\":\"66cf8f6b-14d1-4247-b031-59fef1211139\",\"type\":\"BasicTicker\"}},\"id\":\"636ac89e-513f-4da2-93d6-8bd483d92be4\",\"type\":\"Grid\"},{\"attributes\":{\"overlay\":{\"id\":\"248cc5b8-b9fb-48e5-bd85-4d7579185d67\",\"type\":\"BoxAnnotation\"},\"plot\":{\"id\":\"7dd781d7-87d7-46c8-8b10-67cc2c23d782\",\"subtype\":\"Figure\",\"type\":\"Plot\"}},\"id\":\"d0632eb4-6ee5-4599-b127-9b4a0c191f15\",\"type\":\"BoxZoomTool\"},{\"attributes\":{},\"id\":\"d9bc5b4a-55be-46e2-b87f-0cf191753de2\",\"type\":\"BasicTickFormatter\"},{\"attributes\":{\"plot\":{\"id\":\"7dd781d7-87d7-46c8-8b10-67cc2c23d782\",\"subtype\":\"Figure\",\"type\":\"Plot\"}},\"id\":\"92c5bf13-dc23-4d48-9003-7bda3aad3eef\",\"type\":\"SaveTool\"},{\"attributes\":{\"callback\":null},\"id\":\"ad4045e5-fd4c-42f1-8f46-aca8e350cb32\",\"type\":\"DataRange1d\"},{\"attributes\":{\"bottom_units\":\"screen\",\"fill_alpha\":{\"value\":0.5},\"fill_color\":{\"value\":\"lightgrey\"},\"left_units\":\"screen\",\"level\":\"overlay\",\"line_alpha\":{\"value\":1.0},\"line_color\":{\"value\":\"black\"},\"line_dash\":[4,4],\"line_width\":{\"value\":2},\"plot\":null,\"render_mode\":\"css\",\"right_units\":\"screen\",\"top_units\":\"screen\"},\"id\":\"248cc5b8-b9fb-48e5-bd85-4d7579185d67\",\"type\":\"BoxAnnotation\"},{\"attributes\":{\"plot\":{\"id\":\"7dd781d7-87d7-46c8-8b10-67cc2c23d782\",\"subtype\":\"Figure\",\"type\":\"Plot\"}},\"id\":\"cf747223-b6fb-432b-a80a-8b30467d43b5\",\"type\":\"WheelZoomTool\"},{\"attributes\":{\"plot\":null,\"text\":null},\"id\":\"467aa06d-f01f-4eeb-a997-f2241118eca9\",\"type\":\"Title\"},{\"attributes\":{\"dimension\":1,\"plot\":{\"id\":\"7dd781d7-87d7-46c8-8b10-67cc2c23d782\",\"subtype\":\"Figure\",\"type\":\"Plot\"},\"ticker\":{\"id\":\"04f45999-b079-4d42-afd2-c9fc94f17d97\",\"type\":\"BasicTicker\"}},\"id\":\"af2fa14a-5264-4cee-b9f8-5cdea84ecb5f\",\"type\":\"Grid\"},{\"attributes\":{\"below\":[{\"id\":\"0ab3f64e-3978-4eee-b77e-62e9fb389984\",\"type\":\"LinearAxis\"}],\"left\":[{\"id\":\"16b2c25a-99cc-410e-89c2-c52593577ab4\",\"type\":\"LinearAxis\"}],\"plot_width\":800,\"renderers\":[{\"id\":\"0ab3f64e-3978-4eee-b77e-62e9fb389984\",\"type\":\"LinearAxis\"},{\"id\":\"636ac89e-513f-4da2-93d6-8bd483d92be4\",\"type\":\"Grid\"},{\"id\":\"16b2c25a-99cc-410e-89c2-c52593577ab4\",\"type\":\"LinearAxis\"},{\"id\":\"af2fa14a-5264-4cee-b9f8-5cdea84ecb5f\",\"type\":\"Grid\"},{\"id\":\"248cc5b8-b9fb-48e5-bd85-4d7579185d67\",\"type\":\"BoxAnnotation\"},{\"id\":\"cd0635ad-b199-4d7f-bb36-22192598b7ae\",\"type\":\"GlyphRenderer\"}],\"title\":{\"id\":\"467aa06d-f01f-4eeb-a997-f2241118eca9\",\"type\":\"Title\"},\"tool_events\":{\"id\":\"7183f981-b252-440c-bf7e-8813bdec5c53\",\"type\":\"ToolEvents\"},\"toolbar\":{\"id\":\"b51ba922-9e15-47bc-aeff-c071b53647ae\",\"type\":\"Toolbar\"},\"x_range\":{\"id\":\"28bfbf7d-712e-480e-9998-4108dbf2b25e\",\"type\":\"DataRange1d\"},\"y_range\":{\"id\":\"ad4045e5-fd4c-42f1-8f46-aca8e350cb32\",\"type\":\"DataRange1d\"}},\"id\":\"7dd781d7-87d7-46c8-8b10-67cc2c23d782\",\"subtype\":\"Figure\",\"type\":\"Plot\"},{\"attributes\":{\"plot\":{\"id\":\"7dd781d7-87d7-46c8-8b10-67cc2c23d782\",\"subtype\":\"Figure\",\"type\":\"Plot\"}},\"id\":\"7ef83004-cecd-4e74-897c-47ad2fc7c733\",\"type\":\"PanTool\"},{\"attributes\":{},\"id\":\"e8f5624d-3dfc-427b-b766-09cbdb5e352e\",\"type\":\"BasicTickFormatter\"},{\"attributes\":{\"formatter\":{\"id\":\"d9bc5b4a-55be-46e2-b87f-0cf191753de2\",\"type\":\"BasicTickFormatter\"},\"plot\":{\"id\":\"7dd781d7-87d7-46c8-8b10-67cc2c23d782\",\"subtype\":\"Figure\",\"type\":\"Plot\"},\"ticker\":{\"id\":\"66cf8f6b-14d1-4247-b031-59fef1211139\",\"type\":\"BasicTicker\"}},\"id\":\"0ab3f64e-3978-4eee-b77e-62e9fb389984\",\"type\":\"LinearAxis\"}],\"root_ids\":[\"7dd781d7-87d7-46c8-8b10-67cc2c23d782\"]},\"title\":\"Bokeh Application\",\"version\":\"0.12.0\"}};\n",
       "            var render_items = [{\"docid\":\"910acfd2-d4a4-47ce-b48d-642309785b22\",\"elementid\":\"26d61f1a-4839-434b-81c7-bf252edb6805\",\"modelid\":\"7dd781d7-87d7-46c8-8b10-67cc2c23d782\",\"notebook_comms_target\":\"8f025dcd-5c2d-4a26-838e-04b199e2de96\"}];\n",
       "            \n",
       "            Bokeh.embed.embed_items(docs_json, render_items);\n",
       "        });\n",
       "      },\n",
       "      function(Bokeh) {\n",
       "      }\n",
       "    ];\n",
       "  \n",
       "    function run_inline_js() {\n",
       "      for (var i = 0; i < inline_js.length; i++) {\n",
       "        inline_js[i](window.Bokeh);\n",
       "      }\n",
       "    }\n",
       "  \n",
       "    if (window._bokeh_is_loading === 0) {\n",
       "      console.log(\"Bokeh: BokehJS loaded, going straight to plotting\");\n",
       "      run_inline_js();\n",
       "    } else {\n",
       "      load_libs(js_urls, function() {\n",
       "        console.log(\"Bokeh: BokehJS plotting callback run at\", now());\n",
       "        run_inline_js();\n",
       "      });\n",
       "    }\n",
       "  }(this));\n",
       "</script>"
      ]
     },
     "metadata": {},
     "output_type": "display_data"
    },
    {
     "data": {
      "text/html": [
       "<p><code>&lt;Bokeh Notebook handle for <strong>In[13]</strong>&gt;</code></p>"
      ],
      "text/plain": [
       "<bokeh.io._CommsHandle at 0x1c99276e630>"
      ]
     },
     "execution_count": 13,
     "metadata": {},
     "output_type": "execute_result"
    }
   ],
   "source": [
    "import numpy as np\n",
    "x = np.arange(10)\n",
    "y = np.random.randn(10)\n",
    "\n",
    "p = figure(width=800, height=600)\n",
    "p.line(x, y)\n",
    "show(p)"
   ]
  }
 ],
 "metadata": {
  "kernelspec": {
   "display_name": "Python [Root]",
   "language": "python",
   "name": "Python [Root]"
  },
  "language_info": {
   "codemirror_mode": {
    "name": "ipython",
    "version": 3
   },
   "file_extension": ".py",
   "mimetype": "text/x-python",
   "name": "python",
   "nbconvert_exporter": "python",
   "pygments_lexer": "ipython3",
   "version": "3.5.2"
  }
 },
 "nbformat": 4,
 "nbformat_minor": 0
}
